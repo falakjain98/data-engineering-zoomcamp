{
 "cells": [
  {
   "cell_type": "code",
   "execution_count": 1,
   "id": "07de9dc3",
   "metadata": {},
   "outputs": [],
   "source": [
    "import pyspark\n",
    "from pyspark.sql import SparkSession"
   ]
  },
  {
   "cell_type": "code",
   "execution_count": 2,
   "id": "ca5bbb06",
   "metadata": {},
   "outputs": [
    {
     "name": "stderr",
     "output_type": "stream",
     "text": [
      "WARNING: An illegal reflective access operation has occurred\n",
      "WARNING: Illegal reflective access by org.apache.spark.unsafe.Platform (file:/home/falakjain/spark/spark-3.0.3-bin-hadoop3.2/jars/spark-unsafe_2.12-3.0.3.jar) to constructor java.nio.DirectByteBuffer(long,int)\n",
      "WARNING: Please consider reporting this to the maintainers of org.apache.spark.unsafe.Platform\n",
      "WARNING: Use --illegal-access=warn to enable warnings of further illegal reflective access operations\n",
      "WARNING: All illegal access operations will be denied in a future release\n",
      "22/08/07 17:05:06 WARN NativeCodeLoader: Unable to load native-hadoop library for your platform... using builtin-java classes where applicable\n",
      "Using Spark's default log4j profile: org/apache/spark/log4j-defaults.properties\n",
      "Setting default log level to \"WARN\".\n",
      "To adjust logging level use sc.setLogLevel(newLevel). For SparkR, use setLogLevel(newLevel).\n"
     ]
    }
   ],
   "source": [
    "spark = SparkSession.builder \\\n",
    "    .master(\"local[*]\") \\\n",
    "    .appName('test') \\\n",
    "    .getOrCreate()"
   ]
  },
  {
   "cell_type": "code",
   "execution_count": 3,
   "id": "cf8de204",
   "metadata": {},
   "outputs": [
    {
     "name": "stdout",
     "output_type": "stream",
     "text": [
      "--2022-08-07 17:05:10--  https://d37ci6vzurychx.cloudfront.net/trip-data/fhvhv_tripdata_2021-01.parquet\n",
      "Resolving d37ci6vzurychx.cloudfront.net (d37ci6vzurychx.cloudfront.net)... 13.225.141.174, 13.225.141.105, 13.225.141.158, ...\n",
      "Connecting to d37ci6vzurychx.cloudfront.net (d37ci6vzurychx.cloudfront.net)|13.225.141.174|:443... connected.\n",
      "HTTP request sent, awaiting response... 200 OK\n",
      "Length: 308924937 (295M) [application/x-www-form-urlencoded]\n",
      "Saving to: ‘fhvhv_tripdata_2021-01.parquet’\n",
      "\n",
      "fhvhv_tripdata_2021 100%[===================>] 294.61M  58.6MB/s    in 5.0s    \n",
      "\n",
      "2022-08-07 17:05:15 (59.5 MB/s) - ‘fhvhv_tripdata_2021-01.parquet’ saved [308924937/308924937]\n",
      "\n"
     ]
    }
   ],
   "source": [
    "!wget https://d37ci6vzurychx.cloudfront.net/trip-data/fhvhv_tripdata_2021-01.parquet"
   ]
  },
  {
   "cell_type": "code",
   "execution_count": 4,
   "id": "2a52087c",
   "metadata": {},
   "outputs": [
    {
     "name": "stdout",
     "output_type": "stream",
     "text": [
      "1006794 fhvhv_tripdata_2021-01.parquet\r\n"
     ]
    }
   ],
   "source": [
    "!wc -l fhvhv_tripdata_2021-01.parquet"
   ]
  },
  {
   "cell_type": "code",
   "execution_count": 5,
   "id": "931021a7",
   "metadata": {},
   "outputs": [
    {
     "name": "stderr",
     "output_type": "stream",
     "text": [
      "\r",
      "[Stage 0:>                                                          (0 + 1) / 1]\r",
      "\r",
      "                                                                                \r"
     ]
    }
   ],
   "source": [
    "df = spark.read \\\n",
    "    .option(\"header\", \"true\") \\\n",
    "    .parquet('fhvhv_tripdata_2021-01.parquet')"
   ]
  },
  {
   "cell_type": "code",
   "execution_count": 6,
   "id": "d44b7839",
   "metadata": {},
   "outputs": [
    {
     "name": "stderr",
     "output_type": "stream",
     "text": [
      "                                                                                \r"
     ]
    },
    {
     "name": "stdout",
     "output_type": "stream",
     "text": [
      "+-----------------+--------------------+--------------------+-------------------+-------------------+-------------------+-------------------+------------+------------+----------+---------+-------------------+-----+----+---------+--------------------+-----------+----+----------+-------------------+-----------------+------------------+----------------+--------------+\n",
      "|hvfhs_license_num|dispatching_base_num|originating_base_num|   request_datetime|  on_scene_datetime|    pickup_datetime|   dropoff_datetime|PULocationID|DOLocationID|trip_miles|trip_time|base_passenger_fare|tolls| bcf|sales_tax|congestion_surcharge|airport_fee|tips|driver_pay|shared_request_flag|shared_match_flag|access_a_ride_flag|wav_request_flag|wav_match_flag|\n",
      "+-----------------+--------------------+--------------------+-------------------+-------------------+-------------------+-------------------+------------+------------+----------+---------+-------------------+-----+----+---------+--------------------+-----------+----+----------+-------------------+-----------------+------------------+----------------+--------------+\n",
      "|           HV0003|              B02682|              B02682|2021-01-01 00:28:09|2021-01-01 00:31:42|2021-01-01 00:33:44|2021-01-01 00:49:07|         230|         166|      5.26|      923|              22.28|  0.0|0.67|     1.98|                2.75|       null| 0.0|     14.99|                  N|                N|                  |               N|             N|\n",
      "|           HV0003|              B02682|              B02682|2021-01-01 00:45:56|2021-01-01 00:55:19|2021-01-01 00:55:19|2021-01-01 01:18:21|         152|         167|      3.65|     1382|              18.36|  0.0|0.55|     1.63|                 0.0|       null| 0.0|     17.06|                  N|                N|                  |               N|             N|\n",
      "|           HV0003|              B02764|              B02764|2021-01-01 00:21:15|2021-01-01 00:22:41|2021-01-01 00:23:56|2021-01-01 00:38:05|         233|         142|      3.51|      849|              14.05|  0.0|0.48|     1.25|                2.75|       null|0.94|     12.98|                  N|                N|                  |               N|             N|\n",
      "|           HV0003|              B02764|              B02764|2021-01-01 00:39:12|2021-01-01 00:42:37|2021-01-01 00:42:51|2021-01-01 00:45:50|         142|         143|      0.74|      179|               7.91|  0.0|0.24|      0.7|                2.75|       null| 0.0|      7.41|                  N|                N|                  |               N|             N|\n",
      "|           HV0003|              B02764|              B02764|2021-01-01 00:46:11|2021-01-01 00:47:17|2021-01-01 00:48:14|2021-01-01 01:08:42|         143|          78|       9.2|     1228|              27.11|  0.0|0.81|     2.41|                2.75|       null| 0.0|     22.44|                  N|                N|                  |               N|             N|\n",
      "|           HV0005|              B02510|                null|2021-01-01 00:04:00|               null|2021-01-01 00:06:59|2021-01-01 00:43:01|          88|          42|     9.725|     2162|              28.11|  0.0|0.84|     2.49|                2.75|       null| 0.0|      28.9|                  N|                N|                 N|               N|             N|\n",
      "|           HV0005|              B02510|                null|2021-01-01 00:40:06|               null|2021-01-01 00:50:00|2021-01-01 01:04:57|          42|         151|     2.469|      897|              25.03|  0.0|0.75|     2.22|                 0.0|       null| 0.0|     15.01|                  N|                N|                 N|               N|             N|\n",
      "|           HV0003|              B02764|              B02764|2021-01-01 00:10:36|2021-01-01 00:12:28|2021-01-01 00:14:30|2021-01-01 00:50:27|          71|         226|     13.53|     2157|              29.67|  0.0|1.04|     3.08|                 0.0|       null| 0.0|      34.2|                  N|                N|                  |               N|             N|\n",
      "|           HV0003|              B02875|              B02875|2021-01-01 00:21:17|2021-01-01 00:22:25|2021-01-01 00:22:54|2021-01-01 00:30:20|         112|         255|       1.6|      446|               6.89|  0.0|0.21|     0.61|                 0.0|       null| 0.0|      6.26|                  N|                N|                  |               N|             N|\n",
      "|           HV0003|              B02875|              B02875|2021-01-01 00:36:57|2021-01-01 00:38:09|2021-01-01 00:40:12|2021-01-01 00:53:31|         255|         232|       3.2|      800|              11.51|  0.0|0.53|     1.03|                2.75|       null|2.82|     10.99|                  N|                N|                  |               N|             N|\n",
      "|           HV0003|              B02875|              B02875|2021-01-01 00:53:31|2021-01-01 00:56:21|2021-01-01 00:56:45|2021-01-01 01:17:42|         232|         198|      5.74|     1257|              17.18|  0.0|0.52|     1.52|                2.75|       null| 0.0|     17.61|                  N|                N|                  |               N|             N|\n",
      "|           HV0003|              B02835|              B02835|2021-01-01 00:22:58|2021-01-01 00:27:01|2021-01-01 00:29:04|2021-01-01 00:36:27|         113|          48|       1.8|      443|               8.18|  0.0|0.25|     0.73|                2.75|       null| 0.0|      6.12|                  N|                N|                  |               N|             N|\n",
      "|           HV0003|              B02835|              B02835|2021-01-01 00:46:44|2021-01-01 00:47:49|2021-01-01 00:48:56|2021-01-01 00:59:12|         239|          75|       2.9|      616|               13.1|  0.0|0.45|     1.17|                2.75|       null|0.94|      8.77|                  N|                N|                  |               N|             N|\n",
      "|           HV0004|              B02800|                null|2021-01-01 00:12:50|               null|2021-01-01 00:15:24|2021-01-01 00:38:31|         181|         237|      9.66|     1387|              32.95|  0.0| 0.0|     2.34|                2.75|       null| 0.0|      21.1|                  N|                N|                 N|               N|             N|\n",
      "|           HV0004|              B02800|                null|2021-01-01 00:35:32|               null|2021-01-01 00:45:00|2021-01-01 01:06:45|         236|          68|      4.38|     1305|              22.91|  0.0| 0.0|     1.63|                2.75|       null|3.43|     15.82|                  N|                N|                 N|               N|             N|\n",
      "|           HV0003|              B02682|              B02682|2021-01-01 00:10:22|2021-01-01 00:11:03|2021-01-01 00:11:53|2021-01-01 00:18:06|         256|         148|      2.03|      373|               7.84|  0.0|0.42|      0.7|                2.75|       null|2.82|      6.93|                  N|                N|                  |               N|             N|\n",
      "|           HV0003|              B02682|              B02682|2021-01-01 00:25:00|2021-01-01 00:26:31|2021-01-01 00:28:31|2021-01-01 00:41:40|          79|          80|      3.08|      789|               13.2|  0.0| 0.4|     1.17|                2.75|       null| 0.0|     11.54|                  N|                N|                  |               N|             N|\n",
      "|           HV0003|              B02682|              B02682|2021-01-01 00:44:56|2021-01-01 00:49:55|2021-01-01 00:50:49|2021-01-01 00:55:59|          17|         217|      1.17|      310|               7.91|  0.0|0.24|      0.7|                 0.0|       null| 0.0|      6.94|                  N|                N|                  |               N|             N|\n",
      "|           HV0005|              B02510|                null|2021-01-01 00:05:04|               null|2021-01-01 00:08:40|2021-01-01 00:39:39|          62|          29|    10.852|     1859|              31.18|  0.0|0.94|     2.77|                 0.0|       null| 0.0|     27.61|                  N|                N|                 N|               N|             N|\n",
      "|           HV0003|              B02836|              B02836|2021-01-01 00:40:44|2021-01-01 00:53:34|2021-01-01 00:53:48|2021-01-01 01:11:40|          22|          22|      3.52|     1072|              28.67|  0.0|0.86|     2.54|                 0.0|       null| 0.0|     17.64|                  N|                N|                  |               N|             N|\n",
      "+-----------------+--------------------+--------------------+-------------------+-------------------+-------------------+-------------------+------------+------------+----------+---------+-------------------+-----+----+---------+--------------------+-----------+----+----------+-------------------+-----------------+------------------+----------------+--------------+\n",
      "only showing top 20 rows\n",
      "\n"
     ]
    }
   ],
   "source": [
    "df.show()"
   ]
  },
  {
   "cell_type": "code",
   "execution_count": 7,
   "id": "6d094817",
   "metadata": {},
   "outputs": [
    {
     "data": {
      "text/plain": [
       "StructType(List(StructField(hvfhs_license_num,StringType,true),StructField(dispatching_base_num,StringType,true),StructField(originating_base_num,StringType,true),StructField(request_datetime,TimestampType,true),StructField(on_scene_datetime,TimestampType,true),StructField(pickup_datetime,TimestampType,true),StructField(dropoff_datetime,TimestampType,true),StructField(PULocationID,LongType,true),StructField(DOLocationID,LongType,true),StructField(trip_miles,DoubleType,true),StructField(trip_time,LongType,true),StructField(base_passenger_fare,DoubleType,true),StructField(tolls,DoubleType,true),StructField(bcf,DoubleType,true),StructField(sales_tax,DoubleType,true),StructField(congestion_surcharge,DoubleType,true),StructField(airport_fee,DoubleType,true),StructField(tips,DoubleType,true),StructField(driver_pay,DoubleType,true),StructField(shared_request_flag,StringType,true),StructField(shared_match_flag,StringType,true),StructField(access_a_ride_flag,StringType,true),StructField(wav_request_flag,StringType,true),StructField(wav_match_flag,StringType,true)))"
      ]
     },
     "execution_count": 7,
     "metadata": {},
     "output_type": "execute_result"
    }
   ],
   "source": [
    "df.schema"
   ]
  },
  {
   "cell_type": "code",
   "execution_count": 8,
   "id": "4249e790",
   "metadata": {},
   "outputs": [],
   "source": [
    "!head -n 1001 fhvhv_tripdata_2021-01.parquet > head.parquet"
   ]
  },
  {
   "cell_type": "code",
   "execution_count": 9,
   "id": "6894312c",
   "metadata": {},
   "outputs": [],
   "source": [
    "import pandas as pd"
   ]
  },
  {
   "cell_type": "code",
   "execution_count": 10,
   "id": "f3ca771b",
   "metadata": {},
   "outputs": [],
   "source": [
    "df_pandas = pd.read_parquet('fhvhv_tripdata_2021-01.parquet',engine='pyarrow')"
   ]
  },
  {
   "cell_type": "code",
   "execution_count": 11,
   "id": "f1066b4f",
   "metadata": {},
   "outputs": [
    {
     "data": {
      "text/plain": [
       "hvfhs_license_num               object\n",
       "dispatching_base_num            object\n",
       "originating_base_num            object\n",
       "request_datetime        datetime64[ns]\n",
       "on_scene_datetime       datetime64[ns]\n",
       "pickup_datetime         datetime64[ns]\n",
       "dropoff_datetime        datetime64[ns]\n",
       "PULocationID                     int64\n",
       "DOLocationID                     int64\n",
       "trip_miles                     float64\n",
       "trip_time                        int64\n",
       "base_passenger_fare            float64\n",
       "tolls                          float64\n",
       "bcf                            float64\n",
       "sales_tax                      float64\n",
       "congestion_surcharge           float64\n",
       "airport_fee                    float64\n",
       "tips                           float64\n",
       "driver_pay                     float64\n",
       "shared_request_flag             object\n",
       "shared_match_flag               object\n",
       "access_a_ride_flag              object\n",
       "wav_request_flag                object\n",
       "wav_match_flag                  object\n",
       "dtype: object"
      ]
     },
     "execution_count": 11,
     "metadata": {},
     "output_type": "execute_result"
    }
   ],
   "source": [
    "df_pandas.dtypes"
   ]
  },
  {
   "cell_type": "code",
   "execution_count": 12,
   "id": "f8413c9d",
   "metadata": {},
   "outputs": [],
   "source": [
    "# spark.createDataFrame(df_pandas).show()"
   ]
  },
  {
   "cell_type": "markdown",
   "id": "80f252c1",
   "metadata": {},
   "source": [
    "Integer - 4 bytes\n",
    "Long - 8 bytes"
   ]
  },
  {
   "cell_type": "code",
   "execution_count": 28,
   "id": "16937bfd",
   "metadata": {},
   "outputs": [],
   "source": [
    "from pyspark.sql import types"
   ]
  },
  {
   "cell_type": "code",
   "execution_count": 14,
   "id": "fc61a99a",
   "metadata": {},
   "outputs": [],
   "source": [
    "# schema = types.StructType([\n",
    "#     types.StructField('hvfhs_license_num', types.StringType(), True),\n",
    "#     types.StructField('dispatching_base_num', types.StringType(), True),\n",
    "#     types.StructField('pickup_datetime', types.TimestampType(), True),\n",
    "#     types.StructField('dropoff_datetime', types.TimestampType(), True),\n",
    "#     types.StructField('PULocationID', types.IntegerType(), True),\n",
    "#     types.StructField('DOLocationID', types.IntegerType(), True),\n",
    "#     types.StructField('SR_Flag', types.StringType(), True)\n",
    "# ])"
   ]
  },
  {
   "cell_type": "code",
   "execution_count": 15,
   "id": "f94052ae",
   "metadata": {},
   "outputs": [],
   "source": [
    "# df = spark.read \\\n",
    "#     .option(\"header\", \"true\") \\\n",
    "#     .schema(schema) \\\n",
    "#     .csv('fhvhv_tripdata_2021-01.csv')"
   ]
  },
  {
   "cell_type": "code",
   "execution_count": 16,
   "id": "c270d9d6",
   "metadata": {},
   "outputs": [],
   "source": [
    "df = df.repartition(24)"
   ]
  },
  {
   "cell_type": "code",
   "execution_count": 17,
   "id": "7796c2b2",
   "metadata": {},
   "outputs": [
    {
     "name": "stderr",
     "output_type": "stream",
     "text": [
      "                                                                                \r"
     ]
    }
   ],
   "source": [
    "df.write.parquet('fhvhv/2021/01/', mode = 'overwrite')"
   ]
  },
  {
   "cell_type": "code",
   "execution_count": 18,
   "id": "c3cab876",
   "metadata": {},
   "outputs": [],
   "source": [
    "df = spark.read.parquet('fhvhv/2021/01/')"
   ]
  },
  {
   "cell_type": "code",
   "execution_count": 19,
   "id": "203b5627",
   "metadata": {},
   "outputs": [
    {
     "name": "stdout",
     "output_type": "stream",
     "text": [
      "root\n",
      " |-- hvfhs_license_num: string (nullable = true)\n",
      " |-- dispatching_base_num: string (nullable = true)\n",
      " |-- originating_base_num: string (nullable = true)\n",
      " |-- request_datetime: timestamp (nullable = true)\n",
      " |-- on_scene_datetime: timestamp (nullable = true)\n",
      " |-- pickup_datetime: timestamp (nullable = true)\n",
      " |-- dropoff_datetime: timestamp (nullable = true)\n",
      " |-- PULocationID: long (nullable = true)\n",
      " |-- DOLocationID: long (nullable = true)\n",
      " |-- trip_miles: double (nullable = true)\n",
      " |-- trip_time: long (nullable = true)\n",
      " |-- base_passenger_fare: double (nullable = true)\n",
      " |-- tolls: double (nullable = true)\n",
      " |-- bcf: double (nullable = true)\n",
      " |-- sales_tax: double (nullable = true)\n",
      " |-- congestion_surcharge: double (nullable = true)\n",
      " |-- airport_fee: double (nullable = true)\n",
      " |-- tips: double (nullable = true)\n",
      " |-- driver_pay: double (nullable = true)\n",
      " |-- shared_request_flag: string (nullable = true)\n",
      " |-- shared_match_flag: string (nullable = true)\n",
      " |-- access_a_ride_flag: string (nullable = true)\n",
      " |-- wav_request_flag: string (nullable = true)\n",
      " |-- wav_match_flag: string (nullable = true)\n",
      "\n"
     ]
    }
   ],
   "source": [
    "df.printSchema()"
   ]
  },
  {
   "cell_type": "markdown",
   "id": "64172a47",
   "metadata": {},
   "source": [
    "SELECT * FROM df WHERE hvfhs_license_num =  HV0003"
   ]
  },
  {
   "cell_type": "code",
   "execution_count": 21,
   "id": "0406d87b",
   "metadata": {},
   "outputs": [
    {
     "name": "stdout",
     "output_type": "stream",
     "text": [
      "+-------------------+-------------------+------------+------------+\n",
      "|    pickup_datetime|   dropoff_datetime|PULocationID|DOLocationID|\n",
      "+-------------------+-------------------+------------+------------+\n",
      "|2021-01-15 14:11:07|2021-01-15 14:41:51|         142|         107|\n",
      "|2021-01-29 18:20:30|2021-01-29 18:32:03|         159|          78|\n",
      "|2021-01-11 21:49:41|2021-01-11 22:00:20|         158|          87|\n",
      "|2021-01-09 07:49:14|2021-01-09 08:02:16|         118|           6|\n",
      "|2021-01-27 17:56:55|2021-01-27 18:11:04|         116|          50|\n",
      "|2021-01-23 15:15:15|2021-01-23 15:25:35|          17|         189|\n",
      "|2021-01-29 16:05:00|2021-01-29 16:20:57|         205|         215|\n",
      "|2021-01-30 23:46:53|2021-01-31 00:00:42|          69|         212|\n",
      "|2021-01-28 21:56:06|2021-01-28 21:59:55|          20|          78|\n",
      "|2021-01-07 20:32:43|2021-01-07 20:53:50|          82|          75|\n",
      "|2021-01-26 20:35:42|2021-01-26 20:45:22|          47|          59|\n",
      "|2021-01-21 14:07:53|2021-01-21 14:21:52|          41|         159|\n",
      "|2021-01-06 19:44:10|2021-01-06 19:53:14|         181|         257|\n",
      "|2021-01-21 05:39:40|2021-01-21 06:19:57|         210|         186|\n",
      "|2021-01-31 07:51:38|2021-01-31 08:12:20|           4|         239|\n",
      "|2021-01-15 17:26:44|2021-01-15 18:05:15|         130|         129|\n",
      "|2021-01-24 03:01:50|2021-01-24 03:19:14|         213|         265|\n",
      "|2021-01-20 14:13:02|2021-01-20 14:28:00|          51|         248|\n",
      "|2021-01-30 13:22:28|2021-01-30 13:33:09|         134|         132|\n",
      "|2021-01-21 11:41:35|2021-01-21 12:08:57|         177|           7|\n",
      "+-------------------+-------------------+------------+------------+\n",
      "only showing top 20 rows\n",
      "\n"
     ]
    }
   ],
   "source": [
    "df.select('pickup_datetime','dropoff_datetime','PULocationID','DOLocationID') \\\n",
    "    .filter(df.hvfhs_license_num == 'HV0003') \\\n",
    "    .show()"
   ]
  },
  {
   "cell_type": "code",
   "execution_count": 22,
   "id": "d24840a0",
   "metadata": {},
   "outputs": [],
   "source": [
    "from pyspark.sql import functions as F"
   ]
  },
  {
   "cell_type": "code",
   "execution_count": 23,
   "id": "3ab1ca44",
   "metadata": {
    "scrolled": true
   },
   "outputs": [
    {
     "name": "stdout",
     "output_type": "stream",
     "text": [
      "+-----------------+--------------------+--------------------+-------------------+-------------------+-------------------+-------------------+------------+------------+----------+---------+-------------------+-----+----+---------+--------------------+-----------+----+----------+-------------------+-----------------+------------------+----------------+--------------+\n",
      "|hvfhs_license_num|dispatching_base_num|originating_base_num|   request_datetime|  on_scene_datetime|    pickup_datetime|   dropoff_datetime|PULocationID|DOLocationID|trip_miles|trip_time|base_passenger_fare|tolls| bcf|sales_tax|congestion_surcharge|airport_fee|tips|driver_pay|shared_request_flag|shared_match_flag|access_a_ride_flag|wav_request_flag|wav_match_flag|\n",
      "+-----------------+--------------------+--------------------+-------------------+-------------------+-------------------+-------------------+------------+------------+----------+---------+-------------------+-----+----+---------+--------------------+-----------+----+----------+-------------------+-----------------+------------------+----------------+--------------+\n",
      "|           HV0005|              B02510|                null|2021-01-14 06:03:37|               null|2021-01-14 06:10:27|2021-01-14 06:16:48|          17|          61|     1.098|      381|                7.5|  0.0|0.23|     0.67|                 0.0|       null| 0.0|      5.47|                  N|                N|                 N|               N|             N|\n",
      "|           HV0005|              B02510|                null|2021-01-14 06:47:15|               null|2021-01-14 06:53:43|2021-01-14 07:06:18|          61|          71|     2.456|      755|              12.48|  0.0|0.37|     1.11|                 0.0|       null| 0.0|      9.05|                  N|                N|                 N|               N|             N|\n",
      "|           HV0003|              B02764|              B02764|2021-01-15 14:07:16|2021-01-15 14:10:33|2021-01-15 14:11:07|2021-01-15 14:41:51|         142|         107|      4.47|     1844|              20.03|  0.0| 0.6|     1.78|                2.75|       null| 0.0|     29.04|                  N|                N|                  |               N|             Y|\n",
      "|           HV0003|              B02889|              B02889|2021-01-29 18:15:35|2021-01-29 18:18:43|2021-01-29 18:20:30|2021-01-29 18:32:03|         159|          78|      2.19|      693|               9.15|  0.0|0.27|     0.81|                 0.0|       null| 0.0|      8.22|                  N|                N|                  |               N|             N|\n",
      "|           HV0005|              B02510|                null|2021-01-07 09:05:49|               null|2021-01-07 09:12:19|2021-01-07 09:18:37|         119|         235|      1.47|      378|               7.38|  0.0|0.22|     0.65|                 0.0|       null| 0.0|      5.47|                  N|                N|                 N|               N|             N|\n",
      "|           HV0003|              B02764|              B02764|2021-01-11 21:48:07|2021-01-11 21:48:18|2021-01-11 21:49:41|2021-01-11 22:00:20|         158|          87|       3.0|      639|              14.58|  0.0|0.44|     1.29|                2.75|       null| 0.0|      8.66|                  N|                N|                  |               N|             N|\n",
      "|           HV0003|              B02866|              B02866|2021-01-09 07:39:16|2021-01-09 07:47:31|2021-01-09 07:49:14|2021-01-09 08:02:16|         118|           6|       6.5|      782|              21.56|  0.0|0.65|     1.91|                 0.0|       null| 0.0|     13.71|                  N|                N|                  |               N|             N|\n",
      "|           HV0003|              B02872|              B02872|2021-01-27 17:53:06|2021-01-27 17:56:34|2021-01-27 17:56:55|2021-01-27 18:11:04|         116|          50|      4.87|      849|              12.95|  0.0|0.41|      1.2|                2.75|       null| 5.0|     19.14|                  N|                N|                  |               N|             Y|\n",
      "|           HV0003|              B02617|              B02617|2021-01-23 15:12:57|2021-01-23 15:15:09|2021-01-23 15:15:15|2021-01-23 15:25:35|          17|         189|      1.99|      620|              10.75|  0.0|0.32|     0.95|                 0.0|       null| 0.0|      7.39|                  N|                N|                  |               N|             N|\n",
      "|           HV0005|              B02510|                null|2021-01-15 18:27:47|               null|2021-01-15 18:35:52|2021-01-15 18:42:15|         117|          86|     0.832|      383|               6.99|  0.0|0.21|     0.62|                 0.0|       null| 0.0|      5.47|                  N|                N|                 N|               N|             N|\n",
      "|           HV0003|              B02764|              B02764|2021-01-29 16:02:45|2021-01-29 16:04:37|2021-01-29 16:05:00|2021-01-29 16:20:57|         205|         215|      3.79|      957|               14.7|  0.0|0.44|      1.3|                 0.0|       null| 0.0|     15.19|                  N|                N|                  |               N|             N|\n",
      "|           HV0005|              B02510|                null|2021-01-23 22:41:08|               null|2021-01-23 22:42:13|2021-01-23 22:48:40|          36|         198|     1.449|      387|               8.31|  0.0|0.17|     0.51|                 0.0|       null| 0.0|      5.47|                  N|                N|                 N|               N|             N|\n",
      "|           HV0005|              B02510|                null|2021-01-19 10:43:20|               null|2021-01-19 10:47:12|2021-01-19 10:56:40|          87|          33|     2.223|      568|              13.65| 0.46|0.42|     1.25|                2.75|       null| 0.0|      8.41|                  N|                N|                 N|               N|             N|\n",
      "|           HV0003|              B02864|              B02864|2021-01-30 23:41:28|2021-01-30 23:46:31|2021-01-30 23:46:53|2021-01-31 00:00:42|          69|         212|      4.95|      829|              11.69|  0.0|0.35|     1.04|                 0.0|       null| 0.0|      12.4|                  N|                N|                  |               N|             N|\n",
      "|           HV0003|              B02835|              B02835|2021-01-28 21:53:03|2021-01-28 21:55:46|2021-01-28 21:56:06|2021-01-28 21:59:55|          20|          78|      0.66|      229|                5.7|  0.0|0.17|     0.51|                 0.0|       null| 0.0|      5.39|                  N|                N|                  |               N|             N|\n",
      "|           HV0003|              B02875|              B02875|2021-01-07 20:29:23|2021-01-07 20:32:37|2021-01-07 20:32:43|2021-01-07 20:53:50|          82|          75|      8.83|     1267|              21.63| 6.12|0.83|     2.46|                 0.0|       null| 0.0|     20.35|                  N|                N|                  |               N|             N|\n",
      "|           HV0003|              B02879|              B02879|2021-01-26 20:31:36|2021-01-26 20:35:12|2021-01-26 20:35:42|2021-01-26 20:45:22|          47|          59|      1.61|      580|               8.25|  0.0|0.25|     0.73|                 0.0|       null| 0.0|      6.63|                  N|                N|                  |               N|             N|\n",
      "|           HV0003|              B02765|              B02765|2021-01-21 14:06:35|2021-01-21 14:07:11|2021-01-21 14:07:53|2021-01-21 14:21:52|          41|         159|      2.27|      839|               13.0|  0.0|0.39|     1.15|                 0.0|       null| 0.0|      9.53|                  N|                N|                  |               N|             N|\n",
      "|           HV0005|              B02510|                null|2021-01-16 16:06:29|               null|2021-01-16 16:13:08|2021-01-16 16:26:51|          18|         136|     2.295|      823|              10.72|  0.0|0.32|     0.95|                 0.0|       null| 0.0|      9.44|                  N|                N|                 N|               N|             N|\n",
      "|           HV0005|              B02510|                null|2021-01-16 00:12:43|               null|2021-01-16 00:16:23|2021-01-16 00:26:12|         210|          11|     3.745|      589|              11.61|  0.0|0.35|     1.03|                 0.0|       null| 0.0|      9.09|                  N|                N|                 N|               N|             N|\n",
      "+-----------------+--------------------+--------------------+-------------------+-------------------+-------------------+-------------------+------------+------------+----------+---------+-------------------+-----+----+---------+--------------------+-----------+----+----------+-------------------+-----------------+------------------+----------------+--------------+\n",
      "only showing top 20 rows\n",
      "\n"
     ]
    }
   ],
   "source": [
    "df.show()"
   ]
  },
  {
   "cell_type": "code",
   "execution_count": 25,
   "id": "6d98c2ce",
   "metadata": {},
   "outputs": [],
   "source": [
    "def crazy_stuff(base_num):\n",
    "    num = int(base_num[1:])\n",
    "    if num % 7 == 0:\n",
    "        return f's/{num:03x}'\n",
    "    elif num % 3 == 0:\n",
    "        return f'a/{num:03x}'\n",
    "    else:\n",
    "        return f'e/{num:03x}'"
   ]
  },
  {
   "cell_type": "code",
   "execution_count": 26,
   "id": "f3175419",
   "metadata": {},
   "outputs": [
    {
     "data": {
      "text/plain": [
       "'s/b44'"
      ]
     },
     "execution_count": 26,
     "metadata": {},
     "output_type": "execute_result"
    }
   ],
   "source": [
    "crazy_stuff('B02884')"
   ]
  },
  {
   "cell_type": "code",
   "execution_count": 29,
   "id": "9bb5d503",
   "metadata": {},
   "outputs": [],
   "source": [
    "crazy_stuff_udf = F.udf(crazy_stuff, returnType=types.StringType())"
   ]
  },
  {
   "cell_type": "code",
   "execution_count": 31,
   "id": "b38f0465",
   "metadata": {
    "scrolled": true
   },
   "outputs": [
    {
     "name": "stdout",
     "output_type": "stream",
     "text": [
      "+-------+-----------+------------+-------------------+-------------------+------------+------------+\n",
      "|base_id|pickup_date|dropoff_date|    pickup_datetime|   dropoff_datetime|PULocationID|DOLocationID|\n",
      "+-------+-----------+------------+-------------------+-------------------+------------+------------+\n",
      "|  e/9ce| 2021-01-14|  2021-01-14|2021-01-14 06:10:27|2021-01-14 06:16:48|          17|          61|\n",
      "|  e/9ce| 2021-01-14|  2021-01-14|2021-01-14 06:53:43|2021-01-14 07:06:18|          61|          71|\n",
      "|  e/acc| 2021-01-15|  2021-01-15|2021-01-15 14:11:07|2021-01-15 14:41:51|         142|         107|\n",
      "|  a/b49| 2021-01-29|  2021-01-29|2021-01-29 18:20:30|2021-01-29 18:32:03|         159|          78|\n",
      "|  e/9ce| 2021-01-07|  2021-01-07|2021-01-07 09:12:19|2021-01-07 09:18:37|         119|         235|\n",
      "|  e/acc| 2021-01-11|  2021-01-11|2021-01-11 21:49:41|2021-01-11 22:00:20|         158|          87|\n",
      "|  e/b32| 2021-01-09|  2021-01-09|2021-01-09 07:49:14|2021-01-09 08:02:16|         118|           6|\n",
      "|  e/b38| 2021-01-27|  2021-01-27|2021-01-27 17:56:55|2021-01-27 18:11:04|         116|          50|\n",
      "|  e/a39| 2021-01-23|  2021-01-23|2021-01-23 15:15:15|2021-01-23 15:25:35|          17|         189|\n",
      "|  e/9ce| 2021-01-15|  2021-01-15|2021-01-15 18:35:52|2021-01-15 18:42:15|         117|          86|\n",
      "|  e/acc| 2021-01-29|  2021-01-29|2021-01-29 16:05:00|2021-01-29 16:20:57|         205|         215|\n",
      "|  e/9ce| 2021-01-23|  2021-01-23|2021-01-23 22:42:13|2021-01-23 22:48:40|          36|         198|\n",
      "|  e/9ce| 2021-01-19|  2021-01-19|2021-01-19 10:47:12|2021-01-19 10:56:40|          87|          33|\n",
      "|  e/b30| 2021-01-30|  2021-01-31|2021-01-30 23:46:53|2021-01-31 00:00:42|          69|         212|\n",
      "|  s/b13| 2021-01-28|  2021-01-28|2021-01-28 21:56:06|2021-01-28 21:59:55|          20|          78|\n",
      "|  e/b3b| 2021-01-07|  2021-01-07|2021-01-07 20:32:43|2021-01-07 20:53:50|          82|          75|\n",
      "|  e/b3f| 2021-01-26|  2021-01-26|2021-01-26 20:35:42|2021-01-26 20:45:22|          47|          59|\n",
      "|  s/acd| 2021-01-21|  2021-01-21|2021-01-21 14:07:53|2021-01-21 14:21:52|          41|         159|\n",
      "|  e/9ce| 2021-01-16|  2021-01-16|2021-01-16 16:13:08|2021-01-16 16:26:51|          18|         136|\n",
      "|  e/9ce| 2021-01-16|  2021-01-16|2021-01-16 00:16:23|2021-01-16 00:26:12|         210|          11|\n",
      "+-------+-----------+------------+-------------------+-------------------+------------+------------+\n",
      "only showing top 20 rows\n",
      "\n"
     ]
    }
   ],
   "source": [
    "df \\\n",
    "    .withColumn('pickup_date', F.to_date(df.pickup_datetime)) \\\n",
    "    .withColumn('dropoff_date', F.to_date(df.dropoff_datetime)) \\\n",
    "    .withColumn('base_id', crazy_stuff_udf(df.dispatching_base_num)) \\\n",
    "    .select('base_id', 'pickup_date', 'dropoff_date','pickup_datetime', 'dropoff_datetime',\\\n",
    "            'PULocationID', 'DOLocationID') \\\n",
    "    .show()"
   ]
  },
  {
   "cell_type": "code",
   "execution_count": 33,
   "id": "0866f9c0",
   "metadata": {},
   "outputs": [
    {
     "name": "stdout",
     "output_type": "stream",
     "text": [
      "PAR1\u0015\u0004\u0015<\u0015HL\u0015\u0006\u0015\u0004\u0012\u0000\u0000\u001f�\b\u0000\u0000\u0000\u0000\u0000\u0000\r\n",
      "cc``�\b3000f��L�,\u0013\u0000�)Fs\u001e",
      "\u0000\u0000\u0000\u0015\u0000\u0015��S\u0015��/,\u0015���\u0002\u0015\u0004\u0015\u0006\u0015\u0006\u001c",
      "6\u0000(\u0006HV0005\u0018\u0006HV0003\u0000\u0000\u0000\u001f�\b\u0000\u0000\u0000\u0000\u0000\u0000\r\n",
      "L�oo\u001d",
      "W��\u000b",
      "�}\u0018[�\u0011A0\u000e\u0015AQ4M�JJI��*�G��5ܞ\u001d",
      "�\t#+'Qؑ�MXB��*X��q1�\\\\\\\f",
      "��\u0005=���\u0006\u0003��,�\u0019���AU�j�\u000f0�b����=+��NY\"ϟ�\u001d",
      "{�?�zֳR\b�����Vq�8t�M�/1��\u000f}h�%�G\r",
      "�ڏJ_�z\u0012��K�q���RI��9�˰ۇ0Ǯ\r",
      "�T��S\u0019^��\u001a�C���ð�g���\u000e)�\u0012R\u000e�q�\r",
      "g!\r",
      "�o{��=�0V>`�!��\u001e",
      "�\u0014C���`\r\n",
      "�\u001c",
      "R��N��.��>�,��ϼ;�\u0018�\u001c",
      "n�-�\u000f��$6�]X�y�~�o��O���\r\n",
      ";)�a��}֐�9�������)��e݄4?\t\u000f�\\�h+b/��6��\u0016��\u000f��B\r\n",
      "�}Ա]]j��A��|\u0014v�\u001c",
      "m��l_7�c�:�Z��(�Ű�5����O��8c�R�Å�3d{�a؍%|�{��ޮ��_�\u0005�Ga�.�)�`�bK\u001c",
      "\u000el����k���v;k��S_�\u001bk�\u0002\f",
      "��d�\u001b�<�\u001a���o�ϳ��{O�\u001e",
      "�}�~?${ǜ{��9\u001c",
      "��.����4v\u0005�u\r\n",
      "y\u0015\u000e�^ϳk��#�\"�-{�ֿ\r",
      "'aO�ѕv\u001e",
      "��r\u0014�O���\t�C)�M���Ν�^�qͺ��\u0014�\u001c",
      "����l�r\u000e%��S��K���\u000b",
      "{���~4�z�OB�l\u001f��X){ԡ�پj��ą>b1�CN��N��t\u0016v\"[.塶v���C��=��;��tv��\u001b�kі-��m_[E\u001e",
      "�]G-�i乷���K��4���3ʓ=\u0002{��x������\u001c",
      "'{O�K}��Ȗ�٫G�T\u0019�y(��vh�v�m��w������/\u001d",
      "k����Ӱ\u001e",
      "BgkW�\u001av���/xM\u000eS=�\u001bjO�С9�\r",
      "W\u0012{����N�\u0001�&�\u000f���O��S������Ξ=α�Zڮ<\r",
      ";S��Sن|l��V.�\u0013_���h�\u0016����\u0012�&��\u001d",
      "}��mȇv��0q�Cmg{^\u0013V\"�c�\u001d",
      "Kc��́�m\u000e@���J?���o��6~�}\u0011�<�k;���\b�I��d�f�E�v�\u001b�\u001a\"�P\u0002g�6��\t��\u0019ƣ��\u0000\u001f�c�I�?�\u00136�5ڦ�S����p߮eNM\u0019;�\u000f�t۝p\r\n",
      "J��e�.%أ߭qh���d�~]9�vq</{�i��r~�l֐���#��l�1g\u0003;\u0015b��MlG�\u0014��l!,�ݫY�>��\u001d",
      "n{e�\u001d",
      "�#a���\u0012��>妪=\r",
      "�\u0005���8�q����\u0019��v�Z;73\u0006�ήL%�sn�>��D�B��?n��ž���\u0006�d��ڍO�����ۧ��l���6�p\u001c",
      "���Y>�/졘\u0011e+�\u001c",
      "\u001b6Sz�/���\u0013K\u001asH[��<K�aذ1mߴa\u001e",
      "{�\u0016�z��s;7�ڐ��\u0001����M�72����R�l��Z�'�\b/ra_k�܋v�m��B�����#����[\u0017���cv�\u0016;µ�IJ�}Dowa늙b1�ޜ��(rA\u001c",
      "a\u0016�0|�嵧�����v�f�y4G���S؊7�\u001f\u000b",
      "��p`<�N��=��يv\t�\u001c",
      "m;�v�wF;\u0011\u000f؅cjZs�M�l�\u000f,�h7��0�\u0013�V\\c;q�G�'�sa�0g�\"����ގO\u0018�\\�\r",
      "k�ؚg}5O�>����q4�%\u001b��9�.<�\\�}��q\u0012S\u001b�ٷ4�R��t=\u001f�\u000e�vq(v\u001aڮ���~�00fg&.��+��^4\u0007co��r�C0���Ͱ�v&w�g����\u0016�<Q��T��f��G\u0017�\u001e",
      "�H�ln�޸�\u000f}0�qʳ]d\u001e",
      "&�\u0010���6�<S�\b؃�ھ�����6c1Oc�h�ui͚����;0W\u0015��-l\t\u0012�:�Cmp\\�9<\u000eGie����?Ѷ\u0010�7�\u0016���F����\u001f)p���م9|����-\u000f��\u000f�\u0013[��C{.r\u0011c����9�ض�T{�\u0017b��'YxaF�<�}{\"-�k�o\b�1�:�!]*��\bT��i\u0002��,\u0016_���>����v���\u0019\u0001�\f",
      "���6�`g��\u0015%\u000e�=��\u0016�����]ɝ,�o�7����z�;�Nx��{�ɋ�.��\u001d",
      "����\u0017\f",
      "������ߏ��8�S\r\n",
      "=��nn_f�v���j�1�cy��\u0005/��f�=�Б�\u0014�l؆�슿��ؕ��\u000f<�ж�~��̛\u00151�u�pf�3쉛��/Q46W��T�����Aw�\u0005\u0003�l�&��\bɪ��\u0011_�8�\u0016���5\u0018u;=���{n+Ȧ1�|�\u001b�^j7W��g��\u000en-x�\r",
      "����jO��c�\u0012��9ul�Mkq^��t�P&��H�8�Z\u001c",
      "��m�}��&\u001e",
      "7k��%̶��XY5��\\�$w��c\u000f\u001b�|lw>�\u0016p�3�n���\u0014\b�����f8�Y�1�v3/�c�C�Ǫe����МȪ�\u001d",
      "c�,��9�̇����=�����6W�kG��#����E�;fB,A�ڣ��\u0013��\u001d",
      "a[��c��ƪMq�\r",
      "w᎟��1�\u000eɂA[�\u000f�\u0015�xM���r��/\u0018-\u0012\t\u000eD�<��cP;g=�L��+�`��D mW@�\u0013�_�6��DEԶ�Aq��\u0010M���2\u0007W\u001e",
      "1���\f",
      "�C�#.�̛�7��D#f�}�d��}�a|*W��\u0002a�w\b�l��}5�O$��e4�g;�_\u0012l��\"7؏Ă��wfB�D �]�+(�\u0000��c��\u0017��ɖ��vLڸc��~�f������l6\u0016�L�n�v�,�����M��س<�AY�\u0014����B0�Jq��\u0011���]R��0^\u001c",
      "-'Ü�Żk��\u0016[�^��\u0013`+@8����|����sϼ�({�\u0010_���ϭ��ݐ\u0005-�s|d��\u00000Of#��%w\u001f\u0007l:�\u001e",
      "�Z�̬C`�j\u001f}��o������-�eێ�e����ðz�\u0016�\u0004��N�-�zH�8\u0006��-ԉ\u0007LJ:�.�#�Օ\u0014\u000b",
      "#{���it\u0004#<��e\u001c",
      "՞����\u0002�\u00075e3�2��`���;7X�9G�Z1��6�\u0012\u0007\u000b",
      "M�C�Ck��=����\u0019������Ɣ\u0014��\u0007���lF�˛�[fb��x��h���o'��ݘ�o+�_�%x�L�t�\u0017��ҊMw6$&�e\u0005z9�O��>�\u001c",
      "y/#Y�\\k�\u0010\r\n",
      "��7O�^��\u001f�����\r\n"
     ]
    }
   ],
   "source": [
    "!head -n 10 head.parquet"
   ]
  },
  {
   "cell_type": "code",
   "execution_count": null,
   "id": "aa1b0e18",
   "metadata": {},
   "outputs": [],
   "source": []
  }
 ],
 "metadata": {
  "kernelspec": {
   "display_name": "Python 3 (ipykernel)",
   "language": "python",
   "name": "python3"
  },
  "language_info": {
   "codemirror_mode": {
    "name": "ipython",
    "version": 3
   },
   "file_extension": ".py",
   "mimetype": "text/x-python",
   "name": "python",
   "nbconvert_exporter": "python",
   "pygments_lexer": "ipython3",
   "version": "3.9.12"
  }
 },
 "nbformat": 4,
 "nbformat_minor": 5
}
